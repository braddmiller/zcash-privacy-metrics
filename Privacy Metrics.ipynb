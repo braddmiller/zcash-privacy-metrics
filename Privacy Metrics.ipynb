{
 "cells": [
  {
   "cell_type": "code",
   "execution_count": 117,
   "metadata": {
    "collapsed": true
   },
   "outputs": [],
   "source": [
    "%matplotlib inline\n",
    "import pandas as pd\n",
    "import numpy as np\n",
    "import matplotlib.mlab as mlab\n",
    "import matplotlib.pyplot as plt\n",
    "ZATOSHI = 100000000\n",
    "CHART = False"
   ]
  },
  {
   "cell_type": "code",
   "execution_count": 118,
   "metadata": {
    "collapsed": true
   },
   "outputs": [],
   "source": [
    "# Select Dataset here to analyze \n",
    "# data = pd.read_csv(\"data/testnet-data.txt\")\n",
    "\n",
    "# Read in mainnet data\n",
    "data = pd.read_csv(\"data/mainnet.csv\")\n",
    "\n",
    "#remove last day (partial data)\n",
    "data = data[:-1]"
   ]
  },
  {
   "cell_type": "code",
   "execution_count": 120,
   "metadata": {
    "collapsed": true
   },
   "outputs": [],
   "source": [
    "def calctype(row):\n",
    "    jsin = row[\"totalJSIn\"] != 0.\n",
    "    jsout = row[\"totalJSOut\"] != 0.\n",
    "    vin = row[\"totalVIn\"] != 0.\n",
    "    vout = row[\"totalVOut\"] != 0.\n",
    "    \n",
    "    if row[\"isCoinBase\"] == \"T\":\n",
    "        t = \"coingen\"\n",
    "    elif vin and vout and not jsin and not jsout:\n",
    "        t = \"unshielded\"\n",
    "    elif vin and jsout and not vout and not jsin:\n",
    "        t = \"shielding\"\n",
    "    elif vout and jsin and not vin and not jsout:\n",
    "        t = \"unshielding\"\n",
    "    elif not vin and not vout:\n",
    "        t = \"shielded\"\n",
    "    else:\n",
    "        t = \"mixed\"\n",
    "        \n",
    "    return t"
   ]
  },
  {
   "cell_type": "code",
   "execution_count": 121,
   "metadata": {
    "collapsed": true
   },
   "outputs": [],
   "source": [
    "# Load and gather data into groups\n",
    "# Clean and format data\n",
    "data[\"blockDate\"] = pd.to_datetime(data['blockTime'], unit='s').dt.date\n",
    "date_group = data.groupby(['blockDate'])\n",
    "\n",
    "daily_totals = date_group.sum()\n",
    "cumulative_totals = daily_totals.cumsum()\n",
    "\n",
    "#coinbase group and daily\n",
    "coinbase_data = data[data[\"isCoinBase\"] == 'T']\n",
    "coinbase_daily = coinbase_data.groupby(['blockDate']).sum().cumsum()\n",
    "\n",
    "#Non Coinbase group and calc fees\n",
    "non_coinbase = data[data[\"isCoinBase\"] == \"F\"]\n",
    "daily_fees = non_coinbase.groupby(['blockDate']).sum().cumsum()\n",
    "daily_fees[\"fees\"] = daily_fees[\"totalVIn\"] - daily_fees[\"totalVOut\"] + daily_fees[\"totalJSIn\"] - daily_fees[\"totalJSOut\"]\n",
    "\n",
    "#Add coinbase column to cumulative totals\n",
    "cumulative_totals[\"coinbase\"] = coinbase_daily['totalVOut'] - daily_fees[\"fees\"]"
   ]
  },
  {
   "cell_type": "code",
   "execution_count": 122,
   "metadata": {
    "collapsed": true
   },
   "outputs": [],
   "source": [
    "# Calculate types\n",
    "data[\"type\"] = data.apply(calctype, axis=1)"
   ]
  },
  {
   "cell_type": "code",
   "execution_count": 168,
   "metadata": {
    "scrolled": false
   },
   "outputs": [],
   "source": [
    "# group by transaction type and day\n",
    "type_group = data.groupby([\"blockDate\", \"type\"])\n",
    "\n",
    "#count the number of each type per day\n",
    "daily_types = type_group.count().unstack()[\"blockHeight\"]\n",
    "\n",
    "# Clean data and get total\n",
    "daily_types.fillna(value=0, inplace=True)\n",
    "daily_tx_totals = daily_types.sum(axis=1)\n",
    "\n",
    "# Get the cumulative daily totals\n",
    "cumulative_daily_tx_totals = daily_tx_totals.cumsum()\n",
    "cumulative_daily_tx_totals.fillna(value=0, inplace=True)\n",
    "\n",
    "# Calculate Cumulative types\n",
    "cumulative_types = daily_types.cumsum()\n",
    "\n",
    "cumulative_percentage_types = cumulative_types.div(cumulative_daily_tx_totals, axis=0)\n",
    "daily_percentage_types = daily_types.div(daily_tx_totals, axis=0)"
   ]
  },
  {
   "cell_type": "code",
   "execution_count": 164,
   "metadata": {
    "scrolled": false
   },
   "outputs": [],
   "source": [
    "# Calculate various output types\n",
    "cumulative_totals[\"shieldedAmount\"] = cumulative_totals[\"totalJSOut\"]-cumulative_totals[\"totalJSIn\"]\n",
    "cumulative_totals[\"transparentAmount\"] = cumulative_totals[\"totalVOut\"]-cumulative_totals[\"totalVIn\"]\n",
    "\n",
    "cumulative_totals[\"transparentPercentage\"] = cumulative_totals[\"transparentAmount\"]/cumulative_totals[\"coinbase\"]\n",
    "cumulative_totals[\"shieldedPercentage\"] = cumulative_totals[\"shieldedAmount\"]/cumulative_totals[\"coinbase\"]\n",
    "\n",
    "cumulative_totals[\"calc_total\"] = cumulative_totals[\"transparentAmount\"] + cumulative_totals[\"shieldedAmount\"]\n",
    "\n",
    "coinbase_daily[\"totalVOut\"] = coinbase_daily[\"totalVOut\"]/ZATOSHI"
   ]
  },
  {
   "cell_type": "code",
   "execution_count": 165,
   "metadata": {},
   "outputs": [],
   "source": [
    "# Total TX volume per day (by number of txs)\n",
    "total_daily_tx_count = data.groupby([\"blockDate\"]).count()\n",
    "total_daily_tx_count = total_daily_tx_count.iloc[:,0]\n",
    "total_daily_tx_count.to_frame()\n",
    "total_daily_tx_count.columns = [\"num_transactions\"]"
   ]
  },
  {
   "cell_type": "code",
   "execution_count": 166,
   "metadata": {
    "collapsed": true
   },
   "outputs": [],
   "source": [
    "# Calculate coinbase funds (total circulating funds)\n",
    "coinbase_transactions = data[data[\"isCoinBase\"] == True].groupby(['blockDate'])\n",
    "coinbase_sum = coinbase_transactions.sum()"
   ]
  },
  {
   "cell_type": "code",
   "execution_count": 167,
   "metadata": {},
   "outputs": [],
   "source": [
    "#Generate Output\n",
    "(cumulative_percentage_types*100).to_csv(\"output/cumulative_tx_types_percentage.csv\")\n",
    "(daily_percentage_types*100).to_csv(\"output/daily_tx_types_percentage.csv\")\n",
    "cumulative_types.to_csv(\"output/cumulative_tx_types.csv\")\n",
    "cumulative_totals[['transparentPercentage', 'shieldedPercentage']].to_csv(\"output/transparent_vs_shielded_percentage.csv\")\n",
    "cumulative_totals['shieldedAmount'].to_csv(\"output/shielded_amount.csv\")\n",
    "total_daily_tx_count = total_daily_tx_count.to_frame()\n",
    "\n",
    "total_daily_tx_count.columns = [\"Transactions\"]\n",
    "total_daily_tx_count[:-1].to_csv(\"output/daily_tx_total.csv\")"
   ]
  },
  {
   "cell_type": "code",
   "execution_count": null,
   "metadata": {
    "collapsed": true
   },
   "outputs": [],
   "source": []
  }
 ],
 "metadata": {
  "kernelspec": {
   "display_name": "Python 3",
   "language": "python",
   "name": "python3"
  },
  "language_info": {
   "codemirror_mode": {
    "name": "ipython",
    "version": 2
   },
   "file_extension": ".py",
   "mimetype": "text/x-python",
   "name": "python",
   "nbconvert_exporter": "python",
   "pygments_lexer": "ipython2",
   "version": "2.7.10"
  }
 },
 "nbformat": 4,
 "nbformat_minor": 2
}
